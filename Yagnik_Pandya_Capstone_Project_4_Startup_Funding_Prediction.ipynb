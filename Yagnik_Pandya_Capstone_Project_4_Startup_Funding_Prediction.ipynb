{
  "nbformat": 4,
  "nbformat_minor": 0,
  "metadata": {
    "kernelspec": {
      "display_name": "Python 3",
      "language": "python",
      "name": "python3"
    },
    "language_info": {
      "codemirror_mode": {
        "name": "ipython",
        "version": 3
      },
      "file_extension": ".py",
      "mimetype": "text/x-python",
      "name": "python",
      "nbconvert_exporter": "python",
      "pygments_lexer": "ipython3",
      "version": "3.6.6"
    },
    "colab": {
      "name": "Yagnik Pandya - Capstone Project 4 - Startup Funding Prediction.ipynb",
      "provenance": [],
      "collapsed_sections": [],
      "include_colab_link": true
    }
  },
  "cells": [
    {
      "cell_type": "markdown",
      "metadata": {
        "id": "view-in-github",
        "colab_type": "text"
      },
      "source": [
        "<a href=\"https://colab.research.google.com/github/yagnik99/Funds-Prediction-for-a-Startup/blob/main/Yagnik_Pandya_Capstone_Project_4_Startup_Funding_Prediction.ipynb\" target=\"_parent\"><img src=\"https://colab.research.google.com/assets/colab-badge.svg\" alt=\"Open In Colab\"/></a>"
      ]
    },
    {
      "cell_type": "markdown",
      "metadata": {
        "id": "tOGC-qoyhJeX"
      },
      "source": [
        "# <b><u> Project Title : Predict whether a startup will get funded in the next three months. </u></b>"
      ]
    },
    {
      "cell_type": "markdown",
      "metadata": {
        "id": "Y06xIdG26kRF"
      },
      "source": [
        "## <b> Problem Description </b>\n",
        "\n",
        "### There has been a staggering growth in investments in young age startups in the last 5 years. A lot of big VC firms are increasingly getting interested in the startup funding space. You are given a task to predict whether a startup will get a funding in the next three months using app traction data and startup details. \n",
        "\n",
        "### This funding can be either seed funding, Series A, Series B, so on and so forth. \n"
      ]
    },
    {
      "cell_type": "markdown",
      "metadata": {
        "id": "AlLxAtlziMbP"
      },
      "source": [
        "## <b> Data Description </b>\r\n",
        "\r\n",
        "### In the file, you have monthly data for the startup entities which contains information about various app traction performance.\r\n",
        "\r\n",
        "### <b> In the given data, you have the following variables:\r\n",
        "* ### UUID - Unique Identifier for a single startup entity\r\n",
        "* ### Month - Month for which the app data is available\r\n",
        "* ### Application category - The category to which an application belongs to\r\n",
        "* ### Avg Session Time - Average time of the session in app during the month\r\n",
        "* ### Total Session Time - Avg session time / user x Open rate = Total session time\r\n",
        "* ### Open_rate - No of times app has been opened by a user\r\n",
        "* ### Reach - % of devices having the app installed\r\n",
        "* ### Funding_ind - Indicator for a funded startup\r\n",
        "\r\n",
        "## <b>Following variables are only available for funded startups:</b>\r\n",
        "* ### Business models -  The business model of the startup                            \r\n",
        "* ### City - the city where the startup is based out of\r\n",
        "* ### Company Stage - the stage of the company\r\n",
        "* ### Feed name - \r\n",
        "* ### Founded year - The year in which the startup was founded\r\n",
        "* ### Latest funded date - The latest date in which the startup was funded\r\n",
        "* ### MAU - % of reach which opened the app in the given month( Monthly Active Users)\r\n",
        "* ### Overview - Overview of the startup\r\n",
        "* ### Practice Areas - \r\n",
        "* ### Region - Region where the startup operates\r\n",
        "* ### Total Funding - Total amount of funding till the month\r\n",
        "* ### Uninstall Rate - Rate of uninstall of applications.\r\n",
        "\r\n"
      ]
    },
    {
      "cell_type": "code",
      "metadata": {
        "id": "mH8Lrf_N0ILc"
      },
      "source": [
        "# Importing Libraries\r\n",
        "import numpy as np\r\n",
        "import pandas as pd\r\n",
        "import matplotlib.pyplot as plt\r\n",
        "import seaborn as sns"
      ],
      "execution_count": 1,
      "outputs": []
    },
    {
      "cell_type": "code",
      "metadata": {
        "colab": {
          "base_uri": "https://localhost:8080/"
        },
        "id": "7AwXMYtrGV27",
        "outputId": "bec6541f-93d4-4f38-afe6-61a89775fdc9"
      },
      "source": [
        "# Mount Drive\r\n",
        "from google.colab import drive\r\n",
        "drive.mount('/content/drive')"
      ],
      "execution_count": 2,
      "outputs": [
        {
          "output_type": "stream",
          "text": [
            "Mounted at /content/drive\n"
          ],
          "name": "stdout"
        }
      ]
    },
    {
      "cell_type": "code",
      "metadata": {
        "id": "I-6nSM9EGV0j"
      },
      "source": [
        "folder = '/content/drive/MyDrive/AlmaBetter/Cohort Aravali/Module 4/Week 4/Capstone Project 4/data/'"
      ],
      "execution_count": 3,
      "outputs": []
    },
    {
      "cell_type": "code",
      "metadata": {
        "id": "7tiTNa_PGVyM"
      },
      "source": [
        "O_data = pd.read_csv(folder + 'data_driven_investment_1.csv')"
      ],
      "execution_count": 4,
      "outputs": []
    },
    {
      "cell_type": "code",
      "metadata": {
        "colab": {
          "base_uri": "https://localhost:8080/",
          "height": 230
        },
        "id": "gQvEc7YHGVwB",
        "outputId": "077bb149-46d2-46eb-b13a-b26fc26f7078"
      },
      "source": [
        "O_data.head(3)"
      ],
      "execution_count": 33,
      "outputs": [
        {
          "output_type": "execute_result",
          "data": {
            "text/html": [
              "<div>\n",
              "<style scoped>\n",
              "    .dataframe tbody tr th:only-of-type {\n",
              "        vertical-align: middle;\n",
              "    }\n",
              "\n",
              "    .dataframe tbody tr th {\n",
              "        vertical-align: top;\n",
              "    }\n",
              "\n",
              "    .dataframe thead th {\n",
              "        text-align: right;\n",
              "    }\n",
              "</style>\n",
              "<table border=\"1\" class=\"dataframe\">\n",
              "  <thead>\n",
              "    <tr style=\"text-align: right;\">\n",
              "      <th></th>\n",
              "      <th>UUID</th>\n",
              "      <th>month</th>\n",
              "      <th>Application Category</th>\n",
              "      <th>Avg_Session_Time</th>\n",
              "      <th>Business Models</th>\n",
              "      <th>City</th>\n",
              "      <th>Company Stage</th>\n",
              "      <th>Feed Name</th>\n",
              "      <th>Founded Year</th>\n",
              "      <th>Latest Funded Date</th>\n",
              "      <th>MAU</th>\n",
              "      <th>Open_Rate</th>\n",
              "      <th>Overview</th>\n",
              "      <th>Practice Areas</th>\n",
              "      <th>Reach</th>\n",
              "      <th>Region</th>\n",
              "      <th>Total Funding (USD)</th>\n",
              "      <th>Total_Session_Time</th>\n",
              "      <th>Uninstall_Rate</th>\n",
              "      <th>funding_ind</th>\n",
              "    </tr>\n",
              "  </thead>\n",
              "  <tbody>\n",
              "    <tr>\n",
              "      <th>0</th>\n",
              "      <td>c1ad38e2d357610c129657d870ede902e8abfcb9</td>\n",
              "      <td>20180801</td>\n",
              "      <td>Books &amp; Reference</td>\n",
              "      <td>NaN</td>\n",
              "      <td>NaN</td>\n",
              "      <td>NaN</td>\n",
              "      <td>NaN</td>\n",
              "      <td>NaN</td>\n",
              "      <td>NaN</td>\n",
              "      <td>NaN</td>\n",
              "      <td>NaN</td>\n",
              "      <td>NaN</td>\n",
              "      <td>NaN</td>\n",
              "      <td>NaN</td>\n",
              "      <td>0.042963</td>\n",
              "      <td>National</td>\n",
              "      <td>NaN</td>\n",
              "      <td>NaN</td>\n",
              "      <td>0.024443</td>\n",
              "      <td>0</td>\n",
              "    </tr>\n",
              "    <tr>\n",
              "      <th>1</th>\n",
              "      <td>d841e670d9191f896a0cbc75961920887b375756</td>\n",
              "      <td>20180801</td>\n",
              "      <td>Books &amp; Reference</td>\n",
              "      <td>NaN</td>\n",
              "      <td>NaN</td>\n",
              "      <td>NaN</td>\n",
              "      <td>NaN</td>\n",
              "      <td>NaN</td>\n",
              "      <td>NaN</td>\n",
              "      <td>NaN</td>\n",
              "      <td>NaN</td>\n",
              "      <td>NaN</td>\n",
              "      <td>NaN</td>\n",
              "      <td>NaN</td>\n",
              "      <td>0.003244</td>\n",
              "      <td>National</td>\n",
              "      <td>NaN</td>\n",
              "      <td>NaN</td>\n",
              "      <td>0.009828</td>\n",
              "      <td>0</td>\n",
              "    </tr>\n",
              "    <tr>\n",
              "      <th>2</th>\n",
              "      <td>0a59d138b3eaccd22b665eae70c756fef83ddb63</td>\n",
              "      <td>20180801</td>\n",
              "      <td>Finance</td>\n",
              "      <td>NaN</td>\n",
              "      <td>NaN</td>\n",
              "      <td>NaN</td>\n",
              "      <td>NaN</td>\n",
              "      <td>NaN</td>\n",
              "      <td>NaN</td>\n",
              "      <td>NaN</td>\n",
              "      <td>NaN</td>\n",
              "      <td>NaN</td>\n",
              "      <td>NaN</td>\n",
              "      <td>NaN</td>\n",
              "      <td>0.000161</td>\n",
              "      <td>National</td>\n",
              "      <td>NaN</td>\n",
              "      <td>NaN</td>\n",
              "      <td>0.235294</td>\n",
              "      <td>0</td>\n",
              "    </tr>\n",
              "  </tbody>\n",
              "</table>\n",
              "</div>"
            ],
            "text/plain": [
              "                                       UUID  ...  funding_ind\n",
              "0  c1ad38e2d357610c129657d870ede902e8abfcb9  ...            0\n",
              "1  d841e670d9191f896a0cbc75961920887b375756  ...            0\n",
              "2  0a59d138b3eaccd22b665eae70c756fef83ddb63  ...            0\n",
              "\n",
              "[3 rows x 20 columns]"
            ]
          },
          "metadata": {
            "tags": []
          },
          "execution_count": 33
        }
      ]
    },
    {
      "cell_type": "code",
      "metadata": {
        "colab": {
          "base_uri": "https://localhost:8080/"
        },
        "id": "VnnrtMxbGVuh",
        "outputId": "cc672a0b-fa9e-4108-ba1e-e0cf44676c08"
      },
      "source": [
        "# Shape of Original Dataset\r\n",
        "O_data.shape"
      ],
      "execution_count": 6,
      "outputs": [
        {
          "output_type": "execute_result",
          "data": {
            "text/plain": [
              "(1502175, 20)"
            ]
          },
          "metadata": {
            "tags": []
          },
          "execution_count": 6
        }
      ]
    },
    {
      "cell_type": "code",
      "metadata": {
        "colab": {
          "base_uri": "https://localhost:8080/"
        },
        "id": "1-SPoet0GVsG",
        "outputId": "fb351630-a7c7-476e-ae8a-466d7252d1f6"
      },
      "source": [
        "O_data.info()"
      ],
      "execution_count": 7,
      "outputs": [
        {
          "output_type": "stream",
          "text": [
            "<class 'pandas.core.frame.DataFrame'>\n",
            "RangeIndex: 1502175 entries, 0 to 1502174\n",
            "Data columns (total 20 columns):\n",
            " #   Column                Non-Null Count    Dtype  \n",
            "---  ------                --------------    -----  \n",
            " 0   UUID                  1500693 non-null  object \n",
            " 1   month                 1502175 non-null  int64  \n",
            " 2   Application Category  1502175 non-null  object \n",
            " 3   Avg_Session_Time      877732 non-null   float64\n",
            " 4   Business Models       2414 non-null     object \n",
            " 5   City                  2407 non-null     object \n",
            " 6   Company Stage         2414 non-null     object \n",
            " 7   Feed Name             2414 non-null     object \n",
            " 8   Founded Year          2414 non-null     float64\n",
            " 9   Latest Funded Date    2414 non-null     object \n",
            " 10  MAU                   118087 non-null   float64\n",
            " 11  Open_Rate             877715 non-null   float64\n",
            " 12  Overview              2414 non-null     object \n",
            " 13  Practice Areas        2414 non-null     object \n",
            " 14  Reach                 1050875 non-null  float64\n",
            " 15  Region                1502175 non-null  object \n",
            " 16  Total Funding (USD)   2255 non-null     float64\n",
            " 17  Total_Session_Time    877665 non-null   float64\n",
            " 18  Uninstall_Rate        352269 non-null   float64\n",
            " 19  funding_ind           1502175 non-null  int64  \n",
            "dtypes: float64(8), int64(2), object(10)\n",
            "memory usage: 229.2+ MB\n"
          ],
          "name": "stdout"
        }
      ]
    },
    {
      "cell_type": "code",
      "metadata": {
        "colab": {
          "base_uri": "https://localhost:8080/"
        },
        "id": "dTU3QHMeGVpp",
        "outputId": "ef8b9ad5-4172-4fe9-d4d6-e05a9ef2873d"
      },
      "source": [
        "#Count of Funded Startups\r\n",
        "O_data['funding_ind'].value_counts()"
      ],
      "execution_count": 8,
      "outputs": [
        {
          "output_type": "execute_result",
          "data": {
            "text/plain": [
              "0    1499761\n",
              "1       2414\n",
              "Name: funding_ind, dtype: int64"
            ]
          },
          "metadata": {
            "tags": []
          },
          "execution_count": 8
        }
      ]
    },
    {
      "cell_type": "code",
      "metadata": {
        "colab": {
          "base_uri": "https://localhost:8080/"
        },
        "id": "gFl7_MSROmpv",
        "outputId": "7262bf96-0dab-462d-d554-2f9515efafbf"
      },
      "source": [
        "O_data.isna().sum()"
      ],
      "execution_count": 9,
      "outputs": [
        {
          "output_type": "execute_result",
          "data": {
            "text/plain": [
              "UUID                       1482\n",
              "month                         0\n",
              "Application Category          0\n",
              "Avg_Session_Time         624443\n",
              "Business Models         1499761\n",
              "City                    1499768\n",
              "Company Stage           1499761\n",
              "Feed Name               1499761\n",
              "Founded Year            1499761\n",
              "Latest Funded Date      1499761\n",
              "MAU                     1384088\n",
              "Open_Rate                624460\n",
              "Overview                1499761\n",
              "Practice Areas          1499761\n",
              "Reach                    451300\n",
              "Region                        0\n",
              "Total Funding (USD)     1499920\n",
              "Total_Session_Time       624510\n",
              "Uninstall_Rate          1149906\n",
              "funding_ind                   0\n",
              "dtype: int64"
            ]
          },
          "metadata": {
            "tags": []
          },
          "execution_count": 9
        }
      ]
    },
    {
      "cell_type": "code",
      "metadata": {
        "colab": {
          "base_uri": "https://localhost:8080/"
        },
        "id": "ieOGRiJvRFxl",
        "outputId": "b660d0d8-b42f-4585-e936-ef2345560688"
      },
      "source": [
        "# Checking for duplicates\r\n",
        "len(O_data[O_data.duplicated()])"
      ],
      "execution_count": 22,
      "outputs": [
        {
          "output_type": "execute_result",
          "data": {
            "text/plain": [
              "89412"
            ]
          },
          "metadata": {
            "tags": []
          },
          "execution_count": 22
        }
      ]
    },
    {
      "cell_type": "code",
      "metadata": {
        "id": "W59DtHcORNxd"
      },
      "source": [
        "#Droping Duplicates\r\n",
        "O_data.drop_duplicates(inplace=True)"
      ],
      "execution_count": 23,
      "outputs": []
    },
    {
      "cell_type": "code",
      "metadata": {
        "colab": {
          "base_uri": "https://localhost:8080/"
        },
        "id": "gUs_Un9pRNv8",
        "outputId": "58b2c280-fea1-42dc-d52b-a129dea9ac04"
      },
      "source": [
        "# Where UUID is null\r\n",
        "len(O_data[O_data['UUID'].isna()])"
      ],
      "execution_count": 25,
      "outputs": [
        {
          "output_type": "execute_result",
          "data": {
            "text/plain": [
              "969"
            ]
          },
          "metadata": {
            "tags": []
          },
          "execution_count": 25
        }
      ]
    },
    {
      "cell_type": "code",
      "metadata": {
        "colab": {
          "base_uri": "https://localhost:8080/"
        },
        "id": "dyXsVcpgRwJD",
        "outputId": "9d4bd360-c563-4d25-f75d-33e11d321a7a"
      },
      "source": [
        "# Duration of Data\r\n",
        "print(O_data['month'].min(),'- start')\r\n",
        "print(O_data['month'].max(), '- end')"
      ],
      "execution_count": 28,
      "outputs": [
        {
          "output_type": "stream",
          "text": [
            "20180701 - start\n",
            "20200601 - end\n"
          ],
          "name": "stdout"
        }
      ]
    },
    {
      "cell_type": "code",
      "metadata": {
        "colab": {
          "base_uri": "https://localhost:8080/",
          "height": 524
        },
        "id": "Tgl8T0L-RakA",
        "outputId": "ccc236bd-bddf-4cc4-cdf9-ab7855c5cd3c"
      },
      "source": [
        "O_data[O_data['month'] ==20191201]"
      ],
      "execution_count": 35,
      "outputs": [
        {
          "output_type": "execute_result",
          "data": {
            "text/html": [
              "<div>\n",
              "<style scoped>\n",
              "    .dataframe tbody tr th:only-of-type {\n",
              "        vertical-align: middle;\n",
              "    }\n",
              "\n",
              "    .dataframe tbody tr th {\n",
              "        vertical-align: top;\n",
              "    }\n",
              "\n",
              "    .dataframe thead th {\n",
              "        text-align: right;\n",
              "    }\n",
              "</style>\n",
              "<table border=\"1\" class=\"dataframe\">\n",
              "  <thead>\n",
              "    <tr style=\"text-align: right;\">\n",
              "      <th></th>\n",
              "      <th>UUID</th>\n",
              "      <th>month</th>\n",
              "      <th>Application Category</th>\n",
              "      <th>Avg_Session_Time</th>\n",
              "      <th>Business Models</th>\n",
              "      <th>City</th>\n",
              "      <th>Company Stage</th>\n",
              "      <th>Feed Name</th>\n",
              "      <th>Founded Year</th>\n",
              "      <th>Latest Funded Date</th>\n",
              "      <th>MAU</th>\n",
              "      <th>Open_Rate</th>\n",
              "      <th>Overview</th>\n",
              "      <th>Practice Areas</th>\n",
              "      <th>Reach</th>\n",
              "      <th>Region</th>\n",
              "      <th>Total Funding (USD)</th>\n",
              "      <th>Total_Session_Time</th>\n",
              "      <th>Uninstall_Rate</th>\n",
              "      <th>funding_ind</th>\n",
              "    </tr>\n",
              "  </thead>\n",
              "  <tbody>\n",
              "    <tr>\n",
              "      <th>29180</th>\n",
              "      <td>c1ad38e2d357610c129657d870ede902e8abfcb9</td>\n",
              "      <td>20191201</td>\n",
              "      <td>Books &amp; Reference</td>\n",
              "      <td>0.948620</td>\n",
              "      <td>NaN</td>\n",
              "      <td>NaN</td>\n",
              "      <td>NaN</td>\n",
              "      <td>NaN</td>\n",
              "      <td>NaN</td>\n",
              "      <td>NaN</td>\n",
              "      <td>0.645337</td>\n",
              "      <td>2.892748</td>\n",
              "      <td>NaN</td>\n",
              "      <td>NaN</td>\n",
              "      <td>0.020573</td>\n",
              "      <td>National</td>\n",
              "      <td>NaN</td>\n",
              "      <td>2.747994</td>\n",
              "      <td>0.027411</td>\n",
              "      <td>0</td>\n",
              "    </tr>\n",
              "    <tr>\n",
              "      <th>29181</th>\n",
              "      <td>d841e670d9191f896a0cbc75961920887b375756</td>\n",
              "      <td>20191201</td>\n",
              "      <td>Books &amp; Reference</td>\n",
              "      <td>1.285343</td>\n",
              "      <td>NaN</td>\n",
              "      <td>NaN</td>\n",
              "      <td>NaN</td>\n",
              "      <td>NaN</td>\n",
              "      <td>NaN</td>\n",
              "      <td>NaN</td>\n",
              "      <td>0.470199</td>\n",
              "      <td>3.580697</td>\n",
              "      <td>NaN</td>\n",
              "      <td>NaN</td>\n",
              "      <td>0.004869</td>\n",
              "      <td>National</td>\n",
              "      <td>NaN</td>\n",
              "      <td>4.121214</td>\n",
              "      <td>0.017159</td>\n",
              "      <td>0</td>\n",
              "    </tr>\n",
              "    <tr>\n",
              "      <th>29182</th>\n",
              "      <td>0a59d138b3eaccd22b665eae70c756fef83ddb63</td>\n",
              "      <td>20191201</td>\n",
              "      <td>Finance</td>\n",
              "      <td>2.742948</td>\n",
              "      <td>NaN</td>\n",
              "      <td>NaN</td>\n",
              "      <td>NaN</td>\n",
              "      <td>NaN</td>\n",
              "      <td>NaN</td>\n",
              "      <td>NaN</td>\n",
              "      <td>0.111111</td>\n",
              "      <td>1.914286</td>\n",
              "      <td>NaN</td>\n",
              "      <td>NaN</td>\n",
              "      <td>0.000082</td>\n",
              "      <td>National</td>\n",
              "      <td>NaN</td>\n",
              "      <td>7.232086</td>\n",
              "      <td>0.108911</td>\n",
              "      <td>0</td>\n",
              "    </tr>\n",
              "    <tr>\n",
              "      <th>29183</th>\n",
              "      <td>0a59d138b3eaccd22b665eae70c756fef83ddb63</td>\n",
              "      <td>20191201</td>\n",
              "      <td>Books &amp; Reference</td>\n",
              "      <td>1.040757</td>\n",
              "      <td>NaN</td>\n",
              "      <td>NaN</td>\n",
              "      <td>NaN</td>\n",
              "      <td>NaN</td>\n",
              "      <td>NaN</td>\n",
              "      <td>NaN</td>\n",
              "      <td>0.117647</td>\n",
              "      <td>22.712329</td>\n",
              "      <td>NaN</td>\n",
              "      <td>NaN</td>\n",
              "      <td>0.000030</td>\n",
              "      <td>National</td>\n",
              "      <td>NaN</td>\n",
              "      <td>22.515724</td>\n",
              "      <td>0.030303</td>\n",
              "      <td>0</td>\n",
              "    </tr>\n",
              "    <tr>\n",
              "      <th>29184</th>\n",
              "      <td>df5fb9891f77df24a91d039f1817c6c4e79244ef</td>\n",
              "      <td>20191201</td>\n",
              "      <td>Productivity</td>\n",
              "      <td>0.531213</td>\n",
              "      <td>NaN</td>\n",
              "      <td>NaN</td>\n",
              "      <td>NaN</td>\n",
              "      <td>NaN</td>\n",
              "      <td>NaN</td>\n",
              "      <td>NaN</td>\n",
              "      <td>0.517625</td>\n",
              "      <td>3.305187</td>\n",
              "      <td>NaN</td>\n",
              "      <td>NaN</td>\n",
              "      <td>0.001717</td>\n",
              "      <td>National</td>\n",
              "      <td>NaN</td>\n",
              "      <td>1.768690</td>\n",
              "      <td>0.286079</td>\n",
              "      <td>0</td>\n",
              "    </tr>\n",
              "    <tr>\n",
              "      <th>...</th>\n",
              "      <td>...</td>\n",
              "      <td>...</td>\n",
              "      <td>...</td>\n",
              "      <td>...</td>\n",
              "      <td>...</td>\n",
              "      <td>...</td>\n",
              "      <td>...</td>\n",
              "      <td>...</td>\n",
              "      <td>...</td>\n",
              "      <td>...</td>\n",
              "      <td>...</td>\n",
              "      <td>...</td>\n",
              "      <td>...</td>\n",
              "      <td>...</td>\n",
              "      <td>...</td>\n",
              "      <td>...</td>\n",
              "      <td>...</td>\n",
              "      <td>...</td>\n",
              "      <td>...</td>\n",
              "      <td>...</td>\n",
              "    </tr>\n",
              "    <tr>\n",
              "      <th>125699</th>\n",
              "      <td>e0c97561f3f8d175d623edf201deb329542e7f15</td>\n",
              "      <td>20191201</td>\n",
              "      <td>Education</td>\n",
              "      <td>NaN</td>\n",
              "      <td>NaN</td>\n",
              "      <td>NaN</td>\n",
              "      <td>NaN</td>\n",
              "      <td>NaN</td>\n",
              "      <td>NaN</td>\n",
              "      <td>NaN</td>\n",
              "      <td>NaN</td>\n",
              "      <td>1.000000</td>\n",
              "      <td>NaN</td>\n",
              "      <td>NaN</td>\n",
              "      <td>NaN</td>\n",
              "      <td>National</td>\n",
              "      <td>NaN</td>\n",
              "      <td>93.567800</td>\n",
              "      <td>NaN</td>\n",
              "      <td>0</td>\n",
              "    </tr>\n",
              "    <tr>\n",
              "      <th>125700</th>\n",
              "      <td>758e1f38f006ac569cc92f4307b41af580c14df5</td>\n",
              "      <td>20191201</td>\n",
              "      <td>Puzzle</td>\n",
              "      <td>NaN</td>\n",
              "      <td>NaN</td>\n",
              "      <td>NaN</td>\n",
              "      <td>NaN</td>\n",
              "      <td>NaN</td>\n",
              "      <td>NaN</td>\n",
              "      <td>NaN</td>\n",
              "      <td>NaN</td>\n",
              "      <td>1.000000</td>\n",
              "      <td>NaN</td>\n",
              "      <td>NaN</td>\n",
              "      <td>NaN</td>\n",
              "      <td>National</td>\n",
              "      <td>NaN</td>\n",
              "      <td>102.225567</td>\n",
              "      <td>NaN</td>\n",
              "      <td>0</td>\n",
              "    </tr>\n",
              "    <tr>\n",
              "      <th>125701</th>\n",
              "      <td>678f2b5e85cc409cf27aa93deece6bae47fedb0b</td>\n",
              "      <td>20191201</td>\n",
              "      <td>Casual</td>\n",
              "      <td>NaN</td>\n",
              "      <td>NaN</td>\n",
              "      <td>NaN</td>\n",
              "      <td>NaN</td>\n",
              "      <td>NaN</td>\n",
              "      <td>NaN</td>\n",
              "      <td>NaN</td>\n",
              "      <td>NaN</td>\n",
              "      <td>2.000000</td>\n",
              "      <td>NaN</td>\n",
              "      <td>NaN</td>\n",
              "      <td>NaN</td>\n",
              "      <td>National</td>\n",
              "      <td>NaN</td>\n",
              "      <td>136.455800</td>\n",
              "      <td>NaN</td>\n",
              "      <td>0</td>\n",
              "    </tr>\n",
              "    <tr>\n",
              "      <th>125702</th>\n",
              "      <td>14751de39f57ee3b6a8735c9bff2ff06a8bff8d1</td>\n",
              "      <td>20191201</td>\n",
              "      <td>Lifestyle</td>\n",
              "      <td>NaN</td>\n",
              "      <td>NaN</td>\n",
              "      <td>NaN</td>\n",
              "      <td>NaN</td>\n",
              "      <td>NaN</td>\n",
              "      <td>NaN</td>\n",
              "      <td>NaN</td>\n",
              "      <td>NaN</td>\n",
              "      <td>1.000000</td>\n",
              "      <td>NaN</td>\n",
              "      <td>NaN</td>\n",
              "      <td>NaN</td>\n",
              "      <td>National</td>\n",
              "      <td>NaN</td>\n",
              "      <td>79.575591</td>\n",
              "      <td>NaN</td>\n",
              "      <td>0</td>\n",
              "    </tr>\n",
              "    <tr>\n",
              "      <th>125703</th>\n",
              "      <td>305c190d97b0b9ad9d488643ea3ac97dff33c064</td>\n",
              "      <td>20191201</td>\n",
              "      <td>Events</td>\n",
              "      <td>NaN</td>\n",
              "      <td>NaN</td>\n",
              "      <td>NaN</td>\n",
              "      <td>NaN</td>\n",
              "      <td>NaN</td>\n",
              "      <td>NaN</td>\n",
              "      <td>NaN</td>\n",
              "      <td>NaN</td>\n",
              "      <td>1.510204</td>\n",
              "      <td>NaN</td>\n",
              "      <td>NaN</td>\n",
              "      <td>NaN</td>\n",
              "      <td>National</td>\n",
              "      <td>NaN</td>\n",
              "      <td>61.987350</td>\n",
              "      <td>NaN</td>\n",
              "      <td>0</td>\n",
              "    </tr>\n",
              "  </tbody>\n",
              "</table>\n",
              "<p>96524 rows × 20 columns</p>\n",
              "</div>"
            ],
            "text/plain": [
              "                                            UUID  ...  funding_ind\n",
              "29180   c1ad38e2d357610c129657d870ede902e8abfcb9  ...            0\n",
              "29181   d841e670d9191f896a0cbc75961920887b375756  ...            0\n",
              "29182   0a59d138b3eaccd22b665eae70c756fef83ddb63  ...            0\n",
              "29183   0a59d138b3eaccd22b665eae70c756fef83ddb63  ...            0\n",
              "29184   df5fb9891f77df24a91d039f1817c6c4e79244ef  ...            0\n",
              "...                                          ...  ...          ...\n",
              "125699  e0c97561f3f8d175d623edf201deb329542e7f15  ...            0\n",
              "125700  758e1f38f006ac569cc92f4307b41af580c14df5  ...            0\n",
              "125701  678f2b5e85cc409cf27aa93deece6bae47fedb0b  ...            0\n",
              "125702  14751de39f57ee3b6a8735c9bff2ff06a8bff8d1  ...            0\n",
              "125703  305c190d97b0b9ad9d488643ea3ac97dff33c064  ...            0\n",
              "\n",
              "[96524 rows x 20 columns]"
            ]
          },
          "metadata": {
            "tags": []
          },
          "execution_count": 35
        }
      ]
    },
    {
      "cell_type": "code",
      "metadata": {
        "id": "Ocsgd1-XOmno"
      },
      "source": [
        "# Copy of Data for future use\r\n",
        "data = O_data.copy()"
      ],
      "execution_count": 36,
      "outputs": []
    },
    {
      "cell_type": "code",
      "metadata": {
        "colab": {
          "base_uri": "https://localhost:8080/"
        },
        "id": "-Lh_IMfjUoxl",
        "outputId": "09a71666-93e5-480c-e7a1-cd7f57a39c64"
      },
      "source": [
        "data.info()"
      ],
      "execution_count": 39,
      "outputs": [
        {
          "output_type": "stream",
          "text": [
            "<class 'pandas.core.frame.DataFrame'>\n",
            "Int64Index: 1412763 entries, 0 to 1502174\n",
            "Data columns (total 20 columns):\n",
            " #   Column                Non-Null Count    Dtype  \n",
            "---  ------                --------------    -----  \n",
            " 0   UUID                  1411794 non-null  object \n",
            " 1   month                 1412763 non-null  int64  \n",
            " 2   Application Category  1412763 non-null  object \n",
            " 3   Avg_Session_Time      877732 non-null   float64\n",
            " 4   Business Models       2304 non-null     object \n",
            " 5   City                  2297 non-null     object \n",
            " 6   Company Stage         2304 non-null     object \n",
            " 7   Feed Name             2304 non-null     object \n",
            " 8   Founded Year          2304 non-null     float64\n",
            " 9   Latest Funded Date    2304 non-null     object \n",
            " 10  MAU                   118087 non-null   float64\n",
            " 11  Open_Rate             877715 non-null   float64\n",
            " 12  Overview              2304 non-null     object \n",
            " 13  Practice Areas        2304 non-null     object \n",
            " 14  Reach                 961463 non-null   float64\n",
            " 15  Region                1412763 non-null  object \n",
            " 16  Total Funding (USD)   2158 non-null     float64\n",
            " 17  Total_Session_Time    877665 non-null   float64\n",
            " 18  Uninstall_Rate        352203 non-null   float64\n",
            " 19  funding_ind           1412763 non-null  int64  \n",
            "dtypes: float64(8), int64(2), object(10)\n",
            "memory usage: 226.3+ MB\n"
          ],
          "name": "stdout"
        }
      ]
    },
    {
      "cell_type": "code",
      "metadata": {
        "id": "5hSdjlU8Uc3d"
      },
      "source": [
        "# Features that are only for funded Start up\r\n",
        "Funded_features = ['Business Models', 'City', 'Company Stage', 'Feed Name', 'Founded Year', 'Latest Funded Date', 'MAU', 'Overview', 'Practice Areas', 'Total Funding (USD)', 'Uninstall_Rate']"
      ],
      "execution_count": 40,
      "outputs": []
    },
    {
      "cell_type": "code",
      "metadata": {
        "id": "QhxgJqihT-ex"
      },
      "source": [
        "data.drop(Funded_features, axis = 1, inplace=True)"
      ],
      "execution_count": 41,
      "outputs": []
    },
    {
      "cell_type": "code",
      "metadata": {
        "colab": {
          "base_uri": "https://localhost:8080/"
        },
        "id": "jKiJ8YuaV6_m",
        "outputId": "70635f7c-5323-41e2-8539-f0f87e0229c3"
      },
      "source": [
        "data.shape"
      ],
      "execution_count": 45,
      "outputs": [
        {
          "output_type": "execute_result",
          "data": {
            "text/plain": [
              "(1412763, 9)"
            ]
          },
          "metadata": {
            "tags": []
          },
          "execution_count": 45
        }
      ]
    },
    {
      "cell_type": "code",
      "metadata": {
        "id": "xTCvzcmvGVni"
      },
      "source": [
        "Non_funded = data[data['funding_ind']==0]"
      ],
      "execution_count": 37,
      "outputs": []
    },
    {
      "cell_type": "code",
      "metadata": {
        "id": "hsrnvcv9GVl5"
      },
      "source": [
        "Funded = data[data['funding_ind']==1]"
      ],
      "execution_count": 38,
      "outputs": []
    },
    {
      "cell_type": "code",
      "metadata": {
        "id": "wg39CQWaGVkX"
      },
      "source": [
        ""
      ],
      "execution_count": null,
      "outputs": []
    },
    {
      "cell_type": "code",
      "metadata": {
        "id": "A87Zm1HRGViA"
      },
      "source": [
        ""
      ],
      "execution_count": null,
      "outputs": []
    },
    {
      "cell_type": "code",
      "metadata": {
        "id": "ketW2SbXGVgC"
      },
      "source": [
        ""
      ],
      "execution_count": null,
      "outputs": []
    },
    {
      "cell_type": "code",
      "metadata": {
        "id": "Ch6Cjw1AGVda"
      },
      "source": [
        ""
      ],
      "execution_count": null,
      "outputs": []
    }
  ]
}